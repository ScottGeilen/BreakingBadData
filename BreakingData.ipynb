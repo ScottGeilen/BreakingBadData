{
 "cells": [
  {
   "cell_type": "markdown",
   "metadata": {},
   "source": [
    "# Project Milestone\n",
    "# Breaking Bad Episodes Data"
   ]
  },
  {
   "cell_type": "markdown",
   "metadata": {},
   "source": [
    "### Breaking Bad is a drama series created by Vince Gilligan, which premiered from 2008 to 2013 on AMC"
   ]
  },
  {
   "cell_type": "markdown",
   "metadata": {},
   "source": [
    "### After a high school chemistry teacher is diagnosed with lung cancer, he uses his chemistry knowledge to cook crystal meth with his former student in order to secure his family's financial future before he dies from the disease."
   ]
  },
  {
   "cell_type": "markdown",
   "metadata": {},
   "source": [
    "### 5 seasons and a total of 62 episodes"
   ]
  },
  {
   "cell_type": "code",
   "execution_count": 1,
   "metadata": {},
   "outputs": [],
   "source": [
    "import requests\n",
    "from bs4 import BeautifulSoup\n",
    "import pandas as pd\n",
    "from selenium import webdriver\n",
    "import csv"
   ]
  },
  {
   "cell_type": "code",
   "execution_count": 2,
   "metadata": {},
   "outputs": [],
   "source": [
    "page = requests.get('https://en.wikipedia.org/wiki/List_of_Breaking_Bad_episodes')\n",
    "soup = BeautifulSoup(page.text, 'html.parser')"
   ]
  },
  {
   "cell_type": "code",
   "execution_count": 3,
   "metadata": {},
   "outputs": [],
   "source": [
    "with open('BreakingData.csv', 'w') as csvfile:\n",
    "    writer = csv.writer(csvfile)\n",
    "    writer.writerow([\n",
    "        'No. in season', \n",
    "        'Title', \n",
    "        'Directed by', \n",
    "        'Written by', \n",
    "        'Original air date', \n",
    "        'U.S. viewers (millions)'\n",
    "    ])\n",
    "\n",
    "    no_in_season = []\n",
    "    title = []\n",
    "    directed = []\n",
    "    written = []\n",
    "    air_date = []\n",
    "    viewers = []\n",
    "\n",
    "    s1 = soup.find_all('table', class_='wikiepisodetable')[0]\n",
    "    s2 = soup.find_all('table', class_='wikiepisodetable')[1]\n",
    "    s3 = soup.find_all('table', class_='wikiepisodetable')[2]\n",
    "    s4 = soup.find_all('table', class_='wikiepisodetable')[3]\n",
    "    s5 = soup.find_all('table', class_='wikiepisodetable')[4]\n",
    "\n",
    "    eps1 = [[item.text for item in row_data.select('th,td')]\n",
    "                for row_data in s1.select('tr')]\n",
    "    eps2 = [[item.text for item in row_data.select('th,td')]\n",
    "                for row_data in s2.select('tr')]\n",
    "    eps3 = [[item.text for item in row_data.select('th,td')]\n",
    "                for row_data in s3.select('tr')]\n",
    "    eps4 = [[item.text for item in row_data.select('th,td')]\n",
    "                for row_data in s4.select('tr')]\n",
    "    eps5 = [[item.text for item in row_data.select('th,td')]\n",
    "                for row_data in s5.select('tr')]\n",
    "\n",
    "    for data in eps1:\n",
    "        writer.writerow(data)\n",
    "    for data in eps2:\n",
    "        writer.writerow(data)\n",
    "    for data in eps3:\n",
    "        writer.writerow(data)\n",
    "    for data in eps4:\n",
    "        writer.writerow(data)\n",
    "    for data in eps5:\n",
    "        writer.writerow(data)"
   ]
  },
  {
   "cell_type": "markdown",
   "metadata": {},
   "source": [
    "## Not the prettiest code, but it works"
   ]
  },
  {
   "cell_type": "code",
   "execution_count": 24,
   "metadata": {},
   "outputs": [],
   "source": [
    "bb = pd.read_csv('BreakingData.csv', encoding='latin-1', error_bad_lines=False, warn_bad_lines=False)"
   ]
  },
  {
   "cell_type": "code",
   "execution_count": 5,
   "metadata": {},
   "outputs": [],
   "source": [
    "BreakingData = bb"
   ]
  },
  {
   "cell_type": "code",
   "execution_count": 6,
   "metadata": {},
   "outputs": [],
   "source": [
    "BreakingData = BreakingData.drop(BreakingData.index[[0,8,22,36,50,51,60]])"
   ]
  },
  {
   "cell_type": "markdown",
   "metadata": {},
   "source": [
    "# Breaking Bad Episodes Data"
   ]
  },
  {
   "cell_type": "code",
   "execution_count": 7,
   "metadata": {
    "scrolled": true
   },
   "outputs": [
    {
     "name": "stderr",
     "output_type": "stream",
     "text": [
      "C:\\Users\\scott\\AppData\\Local\\Continuum\\anaconda3\\lib\\site-packages\\ipykernel_launcher.py:1: SettingWithCopyWarning: \n",
      "A value is trying to be set on a copy of a slice from a DataFrame.\n",
      "Try using .loc[row_indexer,col_indexer] = value instead\n",
      "\n",
      "See the caveats in the documentation: http://pandas.pydata.org/pandas-docs/stable/user_guide/indexing.html#returning-a-view-versus-a-copy\n",
      "  \"\"\"Entry point for launching an IPython kernel.\n"
     ]
    },
    {
     "data": {
      "text/html": [
       "<div>\n",
       "<style scoped>\n",
       "    .dataframe tbody tr th:only-of-type {\n",
       "        vertical-align: middle;\n",
       "    }\n",
       "\n",
       "    .dataframe tbody tr th {\n",
       "        vertical-align: top;\n",
       "    }\n",
       "\n",
       "    .dataframe thead th {\n",
       "        text-align: right;\n",
       "    }\n",
       "</style>\n",
       "<table border=\"1\" class=\"dataframe\">\n",
       "  <thead>\n",
       "    <tr style=\"text-align: right;\">\n",
       "      <th></th>\n",
       "      <th>No. in season</th>\n",
       "      <th>Title</th>\n",
       "      <th>Directed by</th>\n",
       "      <th>Written by</th>\n",
       "      <th>Original air date</th>\n",
       "      <th>U.S. viewers (millions)</th>\n",
       "    </tr>\n",
       "  </thead>\n",
       "  <tbody>\n",
       "    <tr>\n",
       "      <td>1</td>\n",
       "      <td>1</td>\n",
       "      <td>\"Pilot\"</td>\n",
       "      <td>Vince Gilligan</td>\n",
       "      <td>Vince Gilligan</td>\n",
       "      <td>January 20, 2008 (2008-01-20)</td>\n",
       "      <td>1.4</td>\n",
       "    </tr>\n",
       "    <tr>\n",
       "      <td>2</td>\n",
       "      <td>2</td>\n",
       "      <td>\"Cat's in the Bag...\"</td>\n",
       "      <td>Adam Bernstein</td>\n",
       "      <td>Vince Gilligan</td>\n",
       "      <td>January 27, 2008 (2008-01-27)</td>\n",
       "      <td>1.4</td>\n",
       "    </tr>\n",
       "    <tr>\n",
       "      <td>3</td>\n",
       "      <td>3</td>\n",
       "      <td>\"...And the Bag's in the River\"</td>\n",
       "      <td>Adam Bernstein</td>\n",
       "      <td>Vince Gilligan</td>\n",
       "      <td>February 10, 2008 (2008-02-10)</td>\n",
       "      <td>1.0</td>\n",
       "    </tr>\n",
       "    <tr>\n",
       "      <td>4</td>\n",
       "      <td>4</td>\n",
       "      <td>\"Cancer Man\"</td>\n",
       "      <td>Jim McKay</td>\n",
       "      <td>Vince Gilligan</td>\n",
       "      <td>February 17, 2008 (2008-02-17)</td>\n",
       "      <td>1.0</td>\n",
       "    </tr>\n",
       "    <tr>\n",
       "      <td>5</td>\n",
       "      <td>5</td>\n",
       "      <td>\"Gray Matter\"</td>\n",
       "      <td>Tricia Brock</td>\n",
       "      <td>Patty Lin</td>\n",
       "      <td>February 24, 2008 (2008-02-24)</td>\n",
       "      <td>0.9</td>\n",
       "    </tr>\n",
       "    <tr>\n",
       "      <td>...</td>\n",
       "      <td>...</td>\n",
       "      <td>...</td>\n",
       "      <td>...</td>\n",
       "      <td>...</td>\n",
       "      <td>...</td>\n",
       "      <td>...</td>\n",
       "    </tr>\n",
       "    <tr>\n",
       "      <td>58</td>\n",
       "      <td>12</td>\n",
       "      <td>\"Rabid Dog\"</td>\n",
       "      <td>Sam Catlin</td>\n",
       "      <td>Sam Catlin</td>\n",
       "      <td>September 1, 2013 (2013-09-01)</td>\n",
       "      <td>4.41</td>\n",
       "    </tr>\n",
       "    <tr>\n",
       "      <td>59</td>\n",
       "      <td>13</td>\n",
       "      <td>\"To'hajiilee\"</td>\n",
       "      <td>Michelle MacLaren</td>\n",
       "      <td>George Mastras</td>\n",
       "      <td>September 8, 2013 (2013-09-08)</td>\n",
       "      <td>5.11</td>\n",
       "    </tr>\n",
       "    <tr>\n",
       "      <td>60</td>\n",
       "      <td>14</td>\n",
       "      <td>\"Ozymandias\"</td>\n",
       "      <td>Rian Johnson</td>\n",
       "      <td>Moira Walley-Beckett</td>\n",
       "      <td>September 15, 2013 (2013-09-15)</td>\n",
       "      <td>6.37</td>\n",
       "    </tr>\n",
       "    <tr>\n",
       "      <td>61</td>\n",
       "      <td>15</td>\n",
       "      <td>\"Granite State\"</td>\n",
       "      <td>Peter Gould</td>\n",
       "      <td>Peter Gould</td>\n",
       "      <td>September 22, 2013 (2013-09-22)</td>\n",
       "      <td>6.58</td>\n",
       "    </tr>\n",
       "    <tr>\n",
       "      <td>62</td>\n",
       "      <td>16</td>\n",
       "      <td>\"Felina\"</td>\n",
       "      <td>Vince Gilligan</td>\n",
       "      <td>Vince Gilligan</td>\n",
       "      <td>September 29, 2013 (2013-09-29)</td>\n",
       "      <td>10.28</td>\n",
       "    </tr>\n",
       "  </tbody>\n",
       "</table>\n",
       "<p>62 rows × 6 columns</p>\n",
       "</div>"
      ],
      "text/plain": [
       "   No. in season                            Title        Directed by  \\\n",
       "1              1                          \"Pilot\"     Vince Gilligan   \n",
       "2              2            \"Cat's in the Bag...\"     Adam Bernstein   \n",
       "3              3  \"...And the Bag's in the River\"     Adam Bernstein   \n",
       "4              4                     \"Cancer Man\"          Jim McKay   \n",
       "5              5                    \"Gray Matter\"       Tricia Brock   \n",
       "..           ...                              ...                ...   \n",
       "58            12                      \"Rabid Dog\"         Sam Catlin   \n",
       "59            13                    \"To'hajiilee\"  Michelle MacLaren   \n",
       "60            14                     \"Ozymandias\"       Rian Johnson   \n",
       "61            15                  \"Granite State\"        Peter Gould   \n",
       "62            16                         \"Felina\"     Vince Gilligan   \n",
       "\n",
       "              Written by                Original air date  \\\n",
       "1         Vince Gilligan    January 20, 2008 (2008-01-20)   \n",
       "2         Vince Gilligan    January 27, 2008 (2008-01-27)   \n",
       "3         Vince Gilligan   February 10, 2008 (2008-02-10)   \n",
       "4         Vince Gilligan   February 17, 2008 (2008-02-17)   \n",
       "5              Patty Lin   February 24, 2008 (2008-02-24)   \n",
       "..                   ...                              ...   \n",
       "58            Sam Catlin   September 1, 2013 (2013-09-01)   \n",
       "59        George Mastras   September 8, 2013 (2013-09-08)   \n",
       "60  Moira Walley-Beckett  September 15, 2013 (2013-09-15)   \n",
       "61           Peter Gould  September 22, 2013 (2013-09-22)   \n",
       "62        Vince Gilligan  September 29, 2013 (2013-09-29)   \n",
       "\n",
       "   U.S. viewers (millions)  \n",
       "1                      1.4  \n",
       "2                      1.4  \n",
       "3                      1.0  \n",
       "4                      1.0  \n",
       "5                      0.9  \n",
       "..                     ...  \n",
       "58                    4.41  \n",
       "59                    5.11  \n",
       "60                    6.37  \n",
       "61                    6.58  \n",
       "62                   10.28  \n",
       "\n",
       "[62 rows x 6 columns]"
      ]
     },
     "execution_count": 7,
     "metadata": {},
     "output_type": "execute_result"
    }
   ],
   "source": [
    "BreakingData['U.S. viewers (millions)'] = BreakingData['U.S. viewers (millions)'].str[:-4]\n",
    "BreakingData"
   ]
  },
  {
   "cell_type": "markdown",
   "metadata": {},
   "source": [
    "# Who wrote the most episodes?"
   ]
  },
  {
   "cell_type": "code",
   "execution_count": 8,
   "metadata": {
    "scrolled": true
   },
   "outputs": [
    {
     "data": {
      "text/plain": [
       "Vince Gilligan    12\n",
       "Peter Gould        8\n",
       "George Mastras     7\n",
       "Name: Written by, dtype: int64"
      ]
     },
     "execution_count": 8,
     "metadata": {},
     "output_type": "execute_result"
    }
   ],
   "source": [
    "Writtenby = BreakingData['Written by'].value_counts()[:3]\n",
    "Writtenby"
   ]
  },
  {
   "cell_type": "markdown",
   "metadata": {},
   "source": [
    "### 1. Vince Gilligan (creator) wrote 12 episodes"
   ]
  },
  {
   "cell_type": "code",
   "execution_count": 26,
   "metadata": {
    "scrolled": true
   },
   "outputs": [
    {
     "data": {
      "text/html": [
       "<div>\n",
       "<style scoped>\n",
       "    .dataframe tbody tr th:only-of-type {\n",
       "        vertical-align: middle;\n",
       "    }\n",
       "\n",
       "    .dataframe tbody tr th {\n",
       "        vertical-align: top;\n",
       "    }\n",
       "\n",
       "    .dataframe thead th {\n",
       "        text-align: right;\n",
       "    }\n",
       "</style>\n",
       "<table border=\"1\" class=\"dataframe\">\n",
       "  <thead>\n",
       "    <tr style=\"text-align: right;\">\n",
       "      <th></th>\n",
       "      <th>No. in season</th>\n",
       "      <th>Title</th>\n",
       "      <th>U.S. viewers (millions)</th>\n",
       "    </tr>\n",
       "  </thead>\n",
       "  <tbody>\n",
       "    <tr>\n",
       "      <td>1</td>\n",
       "      <td>1</td>\n",
       "      <td>\"Pilot\"</td>\n",
       "      <td>1.40</td>\n",
       "    </tr>\n",
       "    <tr>\n",
       "      <td>2</td>\n",
       "      <td>2</td>\n",
       "      <td>\"Cat's in the Bag...\"</td>\n",
       "      <td>1.40</td>\n",
       "    </tr>\n",
       "    <tr>\n",
       "      <td>3</td>\n",
       "      <td>3</td>\n",
       "      <td>\"...And the Bag's in the River\"</td>\n",
       "      <td>1.00</td>\n",
       "    </tr>\n",
       "    <tr>\n",
       "      <td>4</td>\n",
       "      <td>4</td>\n",
       "      <td>\"Cancer Man\"</td>\n",
       "      <td>1.00</td>\n",
       "    </tr>\n",
       "    <tr>\n",
       "      <td>20</td>\n",
       "      <td>13</td>\n",
       "      <td>\"ABQ\"</td>\n",
       "      <td>1.50</td>\n",
       "    </tr>\n",
       "    <tr>\n",
       "      <td>21</td>\n",
       "      <td>1</td>\n",
       "      <td>\"No Más\"</td>\n",
       "      <td>1.95</td>\n",
       "    </tr>\n",
       "    <tr>\n",
       "      <td>33</td>\n",
       "      <td>13</td>\n",
       "      <td>\"Full Measure\"</td>\n",
       "      <td>1.56</td>\n",
       "    </tr>\n",
       "    <tr>\n",
       "      <td>34</td>\n",
       "      <td>1</td>\n",
       "      <td>\"Box Cutter\"</td>\n",
       "      <td>2.58</td>\n",
       "    </tr>\n",
       "    <tr>\n",
       "      <td>46</td>\n",
       "      <td>13</td>\n",
       "      <td>\"Face Off\"</td>\n",
       "      <td>1.90</td>\n",
       "    </tr>\n",
       "    <tr>\n",
       "      <td>47</td>\n",
       "      <td>1</td>\n",
       "      <td>\"Live Free or Die\"</td>\n",
       "      <td>2.93</td>\n",
       "    </tr>\n",
       "    <tr>\n",
       "      <td>48</td>\n",
       "      <td>2</td>\n",
       "      <td>\"Madrigal\"</td>\n",
       "      <td>2.29</td>\n",
       "    </tr>\n",
       "    <tr>\n",
       "      <td>62</td>\n",
       "      <td>16</td>\n",
       "      <td>\"Felina\"</td>\n",
       "      <td>10.28</td>\n",
       "    </tr>\n",
       "  </tbody>\n",
       "</table>\n",
       "</div>"
      ],
      "text/plain": [
       "   No. in season                            Title  U.S. viewers (millions)\n",
       "1              1                          \"Pilot\"                     1.40\n",
       "2              2            \"Cat's in the Bag...\"                     1.40\n",
       "3              3  \"...And the Bag's in the River\"                     1.00\n",
       "4              4                     \"Cancer Man\"                     1.00\n",
       "20            13                            \"ABQ\"                     1.50\n",
       "21             1                         \"No Más\"                     1.95\n",
       "33            13                   \"Full Measure\"                     1.56\n",
       "34             1                     \"Box Cutter\"                     2.58\n",
       "46            13                       \"Face Off\"                     1.90\n",
       "47             1               \"Live Free or Die\"                     2.93\n",
       "48             2                       \"Madrigal\"                     2.29\n",
       "62            16                         \"Felina\"                    10.28"
      ]
     },
     "execution_count": 26,
     "metadata": {},
     "output_type": "execute_result"
    }
   ],
   "source": [
    "VinceGilligan = BreakingData[['No. in season', 'Title', 'U.S. viewers (millions)']][BreakingData['Written by']=='Vince Gilligan']\n",
    "VinceGilligan"
   ]
  },
  {
   "cell_type": "markdown",
   "metadata": {},
   "source": [
    "### 2. Peter Gould wrote 8 episodes"
   ]
  },
  {
   "cell_type": "code",
   "execution_count": 10,
   "metadata": {
    "scrolled": true
   },
   "outputs": [
    {
     "data": {
      "text/html": [
       "<div>\n",
       "<style scoped>\n",
       "    .dataframe tbody tr th:only-of-type {\n",
       "        vertical-align: middle;\n",
       "    }\n",
       "\n",
       "    .dataframe tbody tr th {\n",
       "        vertical-align: top;\n",
       "    }\n",
       "\n",
       "    .dataframe thead th {\n",
       "        text-align: right;\n",
       "    }\n",
       "</style>\n",
       "<table border=\"1\" class=\"dataframe\">\n",
       "  <thead>\n",
       "    <tr style=\"text-align: right;\">\n",
       "      <th></th>\n",
       "      <th>No. in season</th>\n",
       "      <th>Title</th>\n",
       "      <th>U.S. viewers (millions)</th>\n",
       "    </tr>\n",
       "  </thead>\n",
       "  <tbody>\n",
       "    <tr>\n",
       "      <td>7</td>\n",
       "      <td>7</td>\n",
       "      <td>\"A No-Rough-Stuff-Type Deal\"</td>\n",
       "      <td>1.5</td>\n",
       "    </tr>\n",
       "    <tr>\n",
       "      <td>10</td>\n",
       "      <td>3</td>\n",
       "      <td>\"Bit by a Dead Bee\"</td>\n",
       "      <td>1.13</td>\n",
       "    </tr>\n",
       "    <tr>\n",
       "      <td>15</td>\n",
       "      <td>8</td>\n",
       "      <td>\"Better Call Saul\"</td>\n",
       "      <td>1.04</td>\n",
       "    </tr>\n",
       "    <tr>\n",
       "      <td>22</td>\n",
       "      <td>2</td>\n",
       "      <td>\"Caballo sin Nombre\"</td>\n",
       "      <td>1.55</td>\n",
       "    </tr>\n",
       "    <tr>\n",
       "      <td>40</td>\n",
       "      <td>7</td>\n",
       "      <td>\"Problem Dog\"</td>\n",
       "      <td>1.91</td>\n",
       "    </tr>\n",
       "    <tr>\n",
       "      <td>49</td>\n",
       "      <td>3</td>\n",
       "      <td>\"Hazard Pay\"</td>\n",
       "      <td>2.20</td>\n",
       "    </tr>\n",
       "    <tr>\n",
       "      <td>55</td>\n",
       "      <td>9</td>\n",
       "      <td>\"Blood Money\"</td>\n",
       "      <td>5.92</td>\n",
       "    </tr>\n",
       "    <tr>\n",
       "      <td>61</td>\n",
       "      <td>15</td>\n",
       "      <td>\"Granite State\"</td>\n",
       "      <td>6.58</td>\n",
       "    </tr>\n",
       "  </tbody>\n",
       "</table>\n",
       "</div>"
      ],
      "text/plain": [
       "   No. in season                         Title U.S. viewers (millions)\n",
       "7              7  \"A No-Rough-Stuff-Type Deal\"                     1.5\n",
       "10             3           \"Bit by a Dead Bee\"                    1.13\n",
       "15             8            \"Better Call Saul\"                    1.04\n",
       "22             2          \"Caballo sin Nombre\"                    1.55\n",
       "40             7                 \"Problem Dog\"                    1.91\n",
       "49             3                  \"Hazard Pay\"                    2.20\n",
       "55             9                 \"Blood Money\"                    5.92\n",
       "61            15               \"Granite State\"                    6.58"
      ]
     },
     "execution_count": 10,
     "metadata": {},
     "output_type": "execute_result"
    }
   ],
   "source": [
    "PeterGould = BreakingData[['No. in season', 'Title', 'U.S. viewers (millions)']][BreakingData['Written by']=='Peter Gould']\n",
    "PeterGould"
   ]
  },
  {
   "cell_type": "markdown",
   "metadata": {},
   "source": [
    "### 3. George Mastras wrote 7 episodes"
   ]
  },
  {
   "cell_type": "code",
   "execution_count": 11,
   "metadata": {},
   "outputs": [
    {
     "data": {
      "text/html": [
       "<div>\n",
       "<style scoped>\n",
       "    .dataframe tbody tr th:only-of-type {\n",
       "        vertical-align: middle;\n",
       "    }\n",
       "\n",
       "    .dataframe tbody tr th {\n",
       "        vertical-align: top;\n",
       "    }\n",
       "\n",
       "    .dataframe thead th {\n",
       "        text-align: right;\n",
       "    }\n",
       "</style>\n",
       "<table border=\"1\" class=\"dataframe\">\n",
       "  <thead>\n",
       "    <tr style=\"text-align: right;\">\n",
       "      <th></th>\n",
       "      <th>No. in season</th>\n",
       "      <th>Title</th>\n",
       "      <th>U.S. viewers (millions)</th>\n",
       "    </tr>\n",
       "  </thead>\n",
       "  <tbody>\n",
       "    <tr>\n",
       "      <td>6</td>\n",
       "      <td>6</td>\n",
       "      <td>\"Crazy Handful of Nothin'\"</td>\n",
       "      <td>1.0</td>\n",
       "    </tr>\n",
       "    <tr>\n",
       "      <td>9</td>\n",
       "      <td>2</td>\n",
       "      <td>\"Grilled\"</td>\n",
       "      <td>1.6</td>\n",
       "    </tr>\n",
       "    <tr>\n",
       "      <td>18</td>\n",
       "      <td>11</td>\n",
       "      <td>\"Mandala\"</td>\n",
       "      <td>NaN</td>\n",
       "    </tr>\n",
       "    <tr>\n",
       "      <td>23</td>\n",
       "      <td>3</td>\n",
       "      <td>\"I.F.T.\"</td>\n",
       "      <td>1.33</td>\n",
       "    </tr>\n",
       "    <tr>\n",
       "      <td>35</td>\n",
       "      <td>2</td>\n",
       "      <td>\"Thirty-Eight Snub\"</td>\n",
       "      <td>1.97</td>\n",
       "    </tr>\n",
       "    <tr>\n",
       "      <td>51</td>\n",
       "      <td>5</td>\n",
       "      <td>\"Dead Freight\"</td>\n",
       "      <td>2.48</td>\n",
       "    </tr>\n",
       "    <tr>\n",
       "      <td>59</td>\n",
       "      <td>13</td>\n",
       "      <td>\"To'hajiilee\"</td>\n",
       "      <td>5.11</td>\n",
       "    </tr>\n",
       "  </tbody>\n",
       "</table>\n",
       "</div>"
      ],
      "text/plain": [
       "   No. in season                       Title U.S. viewers (millions)\n",
       "6              6  \"Crazy Handful of Nothin'\"                     1.0\n",
       "9              2                   \"Grilled\"                     1.6\n",
       "18            11                   \"Mandala\"                     NaN\n",
       "23             3                    \"I.F.T.\"                    1.33\n",
       "35             2         \"Thirty-Eight Snub\"                    1.97\n",
       "51             5              \"Dead Freight\"                    2.48\n",
       "59            13               \"To'hajiilee\"                    5.11"
      ]
     },
     "execution_count": 11,
     "metadata": {},
     "output_type": "execute_result"
    }
   ],
   "source": [
    "GeorgeMastras = BreakingData[['No. in season', 'Title', 'U.S. viewers (millions)']][BreakingData['Written by']=='George Mastras']\n",
    "GeorgeMastras"
   ]
  },
  {
   "cell_type": "markdown",
   "metadata": {},
   "source": [
    "# Who directed the most episodes?"
   ]
  },
  {
   "cell_type": "code",
   "execution_count": 12,
   "metadata": {},
   "outputs": [
    {
     "data": {
      "text/plain": [
       "Michelle MacLaren    11\n",
       "Adam Bernstein        8\n",
       "Vince Gilligan        5\n",
       "Michael Slovis        4\n",
       "Colin Bucksey         4\n",
       "Name: Directed by, dtype: int64"
      ]
     },
     "execution_count": 12,
     "metadata": {},
     "output_type": "execute_result"
    }
   ],
   "source": [
    "Directedby = BreakingData['Directed by'].value_counts()[:5]\n",
    "Directedby"
   ]
  },
  {
   "cell_type": "markdown",
   "metadata": {},
   "source": [
    "### 1. Michelle MacLaren directed 11 episodes"
   ]
  },
  {
   "cell_type": "code",
   "execution_count": 13,
   "metadata": {},
   "outputs": [
    {
     "data": {
      "text/html": [
       "<div>\n",
       "<style scoped>\n",
       "    .dataframe tbody tr th:only-of-type {\n",
       "        vertical-align: middle;\n",
       "    }\n",
       "\n",
       "    .dataframe tbody tr th {\n",
       "        vertical-align: top;\n",
       "    }\n",
       "\n",
       "    .dataframe thead th {\n",
       "        text-align: right;\n",
       "    }\n",
       "</style>\n",
       "<table border=\"1\" class=\"dataframe\">\n",
       "  <thead>\n",
       "    <tr style=\"text-align: right;\">\n",
       "      <th></th>\n",
       "      <th>No. in season</th>\n",
       "      <th>Title</th>\n",
       "      <th>U.S. viewers (millions)</th>\n",
       "    </tr>\n",
       "  </thead>\n",
       "  <tbody>\n",
       "    <tr>\n",
       "      <td>16</td>\n",
       "      <td>9</td>\n",
       "      <td>\"4 Days Out\"</td>\n",
       "      <td>NaN</td>\n",
       "    </tr>\n",
       "    <tr>\n",
       "      <td>23</td>\n",
       "      <td>3</td>\n",
       "      <td>\"I.F.T.\"</td>\n",
       "      <td>1.33</td>\n",
       "    </tr>\n",
       "    <tr>\n",
       "      <td>27</td>\n",
       "      <td>7</td>\n",
       "      <td>\"One Minute\"</td>\n",
       "      <td>1.52</td>\n",
       "    </tr>\n",
       "    <tr>\n",
       "      <td>31</td>\n",
       "      <td>11</td>\n",
       "      <td>\"Abiquiu\"</td>\n",
       "      <td>1.32</td>\n",
       "    </tr>\n",
       "    <tr>\n",
       "      <td>35</td>\n",
       "      <td>2</td>\n",
       "      <td>\"Thirty-Eight Snub\"</td>\n",
       "      <td>1.97</td>\n",
       "    </tr>\n",
       "    <tr>\n",
       "      <td>38</td>\n",
       "      <td>5</td>\n",
       "      <td>\"Shotgun\"</td>\n",
       "      <td>1.75</td>\n",
       "    </tr>\n",
       "    <tr>\n",
       "      <td>43</td>\n",
       "      <td>10</td>\n",
       "      <td>\"Salud\"</td>\n",
       "      <td>1.80</td>\n",
       "    </tr>\n",
       "    <tr>\n",
       "      <td>48</td>\n",
       "      <td>2</td>\n",
       "      <td>\"Madrigal\"</td>\n",
       "      <td>2.29</td>\n",
       "    </tr>\n",
       "    <tr>\n",
       "      <td>54</td>\n",
       "      <td>8</td>\n",
       "      <td>\"Gliding Over All\"</td>\n",
       "      <td>2.78</td>\n",
       "    </tr>\n",
       "    <tr>\n",
       "      <td>56</td>\n",
       "      <td>10</td>\n",
       "      <td>\"Buried\"</td>\n",
       "      <td>4.77</td>\n",
       "    </tr>\n",
       "    <tr>\n",
       "      <td>59</td>\n",
       "      <td>13</td>\n",
       "      <td>\"To'hajiilee\"</td>\n",
       "      <td>5.11</td>\n",
       "    </tr>\n",
       "  </tbody>\n",
       "</table>\n",
       "</div>"
      ],
      "text/plain": [
       "   No. in season                Title U.S. viewers (millions)\n",
       "16             9         \"4 Days Out\"                     NaN\n",
       "23             3             \"I.F.T.\"                    1.33\n",
       "27             7         \"One Minute\"                    1.52\n",
       "31            11            \"Abiquiu\"                    1.32\n",
       "35             2  \"Thirty-Eight Snub\"                    1.97\n",
       "38             5            \"Shotgun\"                    1.75\n",
       "43            10              \"Salud\"                    1.80\n",
       "48             2           \"Madrigal\"                    2.29\n",
       "54             8   \"Gliding Over All\"                    2.78\n",
       "56            10             \"Buried\"                    4.77\n",
       "59            13        \"To'hajiilee\"                    5.11"
      ]
     },
     "execution_count": 13,
     "metadata": {},
     "output_type": "execute_result"
    }
   ],
   "source": [
    "MichelleMacLaren = BreakingData[['No. in season', 'Title', 'U.S. viewers (millions)']][BreakingData['Directed by']=='Michelle MacLaren']\n",
    "MichelleMacLaren"
   ]
  },
  {
   "cell_type": "markdown",
   "metadata": {},
   "source": [
    "### 2. Adam Bernstein directed 8 episodes"
   ]
  },
  {
   "cell_type": "code",
   "execution_count": 14,
   "metadata": {},
   "outputs": [
    {
     "data": {
      "text/html": [
       "<div>\n",
       "<style scoped>\n",
       "    .dataframe tbody tr th:only-of-type {\n",
       "        vertical-align: middle;\n",
       "    }\n",
       "\n",
       "    .dataframe tbody tr th {\n",
       "        vertical-align: top;\n",
       "    }\n",
       "\n",
       "    .dataframe thead th {\n",
       "        text-align: right;\n",
       "    }\n",
       "</style>\n",
       "<table border=\"1\" class=\"dataframe\">\n",
       "  <thead>\n",
       "    <tr style=\"text-align: right;\">\n",
       "      <th></th>\n",
       "      <th>No. in season</th>\n",
       "      <th>Title</th>\n",
       "      <th>U.S. viewers (millions)</th>\n",
       "    </tr>\n",
       "  </thead>\n",
       "  <tbody>\n",
       "    <tr>\n",
       "      <td>2</td>\n",
       "      <td>2</td>\n",
       "      <td>\"Cat's in the Bag...\"</td>\n",
       "      <td>1.4</td>\n",
       "    </tr>\n",
       "    <tr>\n",
       "      <td>3</td>\n",
       "      <td>3</td>\n",
       "      <td>\"...And the Bag's in the River\"</td>\n",
       "      <td>1.0</td>\n",
       "    </tr>\n",
       "    <tr>\n",
       "      <td>18</td>\n",
       "      <td>11</td>\n",
       "      <td>\"Mandala\"</td>\n",
       "      <td>NaN</td>\n",
       "    </tr>\n",
       "    <tr>\n",
       "      <td>20</td>\n",
       "      <td>13</td>\n",
       "      <td>\"ABQ\"</td>\n",
       "      <td>1.50</td>\n",
       "    </tr>\n",
       "    <tr>\n",
       "      <td>22</td>\n",
       "      <td>2</td>\n",
       "      <td>\"Caballo sin Nombre\"</td>\n",
       "      <td>1.55</td>\n",
       "    </tr>\n",
       "    <tr>\n",
       "      <td>32</td>\n",
       "      <td>12</td>\n",
       "      <td>\"Half Measures\"</td>\n",
       "      <td>1.19</td>\n",
       "    </tr>\n",
       "    <tr>\n",
       "      <td>34</td>\n",
       "      <td>1</td>\n",
       "      <td>\"Box Cutter\"</td>\n",
       "      <td>2.58</td>\n",
       "    </tr>\n",
       "    <tr>\n",
       "      <td>49</td>\n",
       "      <td>3</td>\n",
       "      <td>\"Hazard Pay\"</td>\n",
       "      <td>2.20</td>\n",
       "    </tr>\n",
       "  </tbody>\n",
       "</table>\n",
       "</div>"
      ],
      "text/plain": [
       "   No. in season                            Title U.S. viewers (millions)\n",
       "2              2            \"Cat's in the Bag...\"                     1.4\n",
       "3              3  \"...And the Bag's in the River\"                     1.0\n",
       "18            11                        \"Mandala\"                     NaN\n",
       "20            13                            \"ABQ\"                    1.50\n",
       "22             2             \"Caballo sin Nombre\"                    1.55\n",
       "32            12                  \"Half Measures\"                    1.19\n",
       "34             1                     \"Box Cutter\"                    2.58\n",
       "49             3                     \"Hazard Pay\"                    2.20"
      ]
     },
     "execution_count": 14,
     "metadata": {},
     "output_type": "execute_result"
    }
   ],
   "source": [
    "AdamBernstein = BreakingData[['No. in season', 'Title', 'U.S. viewers (millions)']][BreakingData['Directed by']=='Adam Bernstein']\n",
    "AdamBernstein"
   ]
  },
  {
   "cell_type": "markdown",
   "metadata": {},
   "source": [
    "### 3. Vince Gilligan (creator) directed 5 episodes"
   ]
  },
  {
   "cell_type": "code",
   "execution_count": 15,
   "metadata": {},
   "outputs": [
    {
     "data": {
      "text/html": [
       "<div>\n",
       "<style scoped>\n",
       "    .dataframe tbody tr th:only-of-type {\n",
       "        vertical-align: middle;\n",
       "    }\n",
       "\n",
       "    .dataframe tbody tr th {\n",
       "        vertical-align: top;\n",
       "    }\n",
       "\n",
       "    .dataframe thead th {\n",
       "        text-align: right;\n",
       "    }\n",
       "</style>\n",
       "<table border=\"1\" class=\"dataframe\">\n",
       "  <thead>\n",
       "    <tr style=\"text-align: right;\">\n",
       "      <th></th>\n",
       "      <th>No. in season</th>\n",
       "      <th>Title</th>\n",
       "      <th>U.S. viewers (millions)</th>\n",
       "    </tr>\n",
       "  </thead>\n",
       "  <tbody>\n",
       "    <tr>\n",
       "      <td>1</td>\n",
       "      <td>1</td>\n",
       "      <td>\"Pilot\"</td>\n",
       "      <td>1.4</td>\n",
       "    </tr>\n",
       "    <tr>\n",
       "      <td>33</td>\n",
       "      <td>13</td>\n",
       "      <td>\"Full Measure\"</td>\n",
       "      <td>1.56</td>\n",
       "    </tr>\n",
       "    <tr>\n",
       "      <td>45</td>\n",
       "      <td>12</td>\n",
       "      <td>\"End Times\"</td>\n",
       "      <td>1.73</td>\n",
       "    </tr>\n",
       "    <tr>\n",
       "      <td>46</td>\n",
       "      <td>13</td>\n",
       "      <td>\"Face Off\"</td>\n",
       "      <td>1.90</td>\n",
       "    </tr>\n",
       "    <tr>\n",
       "      <td>62</td>\n",
       "      <td>16</td>\n",
       "      <td>\"Felina\"</td>\n",
       "      <td>10.28</td>\n",
       "    </tr>\n",
       "  </tbody>\n",
       "</table>\n",
       "</div>"
      ],
      "text/plain": [
       "   No. in season           Title U.S. viewers (millions)\n",
       "1              1         \"Pilot\"                     1.4\n",
       "33            13  \"Full Measure\"                    1.56\n",
       "45            12     \"End Times\"                    1.73\n",
       "46            13      \"Face Off\"                    1.90\n",
       "62            16        \"Felina\"                   10.28"
      ]
     },
     "execution_count": 15,
     "metadata": {},
     "output_type": "execute_result"
    }
   ],
   "source": [
    "VinceGilligan2 = BreakingData[['No. in season', 'Title', 'U.S. viewers (millions)']][BreakingData['Directed by']=='Vince Gilligan']\n",
    "VinceGilligan2"
   ]
  },
  {
   "cell_type": "markdown",
   "metadata": {},
   "source": [
    "# Who wrote and directed the most viewed episode?"
   ]
  },
  {
   "cell_type": "code",
   "execution_count": 16,
   "metadata": {
    "scrolled": true
   },
   "outputs": [
    {
     "name": "stderr",
     "output_type": "stream",
     "text": [
      "C:\\Users\\scott\\AppData\\Local\\Continuum\\anaconda3\\lib\\site-packages\\ipykernel_launcher.py:1: SettingWithCopyWarning: \n",
      "A value is trying to be set on a copy of a slice from a DataFrame.\n",
      "Try using .loc[row_indexer,col_indexer] = value instead\n",
      "\n",
      "See the caveats in the documentation: http://pandas.pydata.org/pandas-docs/stable/user_guide/indexing.html#returning-a-view-versus-a-copy\n",
      "  \"\"\"Entry point for launching an IPython kernel.\n"
     ]
    },
    {
     "data": {
      "text/plain": [
       "No. in season                                           16\n",
       "Title                                             \"Felina\"\n",
       "Directed by                                 Vince Gilligan\n",
       "Written by                                  Vince Gilligan\n",
       "Original air date          September 29, 2013 (2013-09-29)\n",
       "U.S. viewers (millions)                              10.28\n",
       "Name: 62, dtype: object"
      ]
     },
     "execution_count": 16,
     "metadata": {},
     "output_type": "execute_result"
    }
   ],
   "source": [
    "BreakingData['U.S. viewers (millions)'] = pd.to_numeric(BreakingData['U.S. viewers (millions)'])\n",
    "MostViewed = BreakingData.loc[BreakingData['U.S. viewers (millions)'].idxmax()]\n",
    "MostViewed"
   ]
  },
  {
   "cell_type": "markdown",
   "metadata": {},
   "source": [
    "### Who wrote and directed the least viewed episode?"
   ]
  },
  {
   "cell_type": "code",
   "execution_count": 17,
   "metadata": {
    "scrolled": true
   },
   "outputs": [
    {
     "name": "stderr",
     "output_type": "stream",
     "text": [
      "C:\\Users\\scott\\AppData\\Local\\Continuum\\anaconda3\\lib\\site-packages\\ipykernel_launcher.py:1: SettingWithCopyWarning: \n",
      "A value is trying to be set on a copy of a slice from a DataFrame.\n",
      "Try using .loc[row_indexer,col_indexer] = value instead\n",
      "\n",
      "See the caveats in the documentation: http://pandas.pydata.org/pandas-docs/stable/user_guide/indexing.html#returning-a-view-versus-a-copy\n",
      "  \"\"\"Entry point for launching an IPython kernel.\n"
     ]
    },
    {
     "data": {
      "text/plain": [
       "No. in season                                           5\n",
       "Title                                       \"Gray Matter\"\n",
       "Directed by                                  Tricia Brock\n",
       "Written by                                      Patty Lin\n",
       "Original air date          February 24, 2008 (2008-02-24)\n",
       "U.S. viewers (millions)                               0.9\n",
       "Name: 5, dtype: object"
      ]
     },
     "execution_count": 17,
     "metadata": {},
     "output_type": "execute_result"
    }
   ],
   "source": [
    "BreakingData['U.S. viewers (millions)'] = pd.to_numeric(BreakingData['U.S. viewers (millions)'])\n",
    "LeastViewed = BreakingData.loc[BreakingData['U.S. viewers (millions)'].idxmin()]\n",
    "LeastViewed"
   ]
  },
  {
   "cell_type": "markdown",
   "metadata": {},
   "source": [
    "### Viewers Bar Chart"
   ]
  },
  {
   "cell_type": "code",
   "execution_count": 18,
   "metadata": {},
   "outputs": [
    {
     "data": {
      "text/html": [
       "<div>\n",
       "<style scoped>\n",
       "    .dataframe tbody tr th:only-of-type {\n",
       "        vertical-align: middle;\n",
       "    }\n",
       "\n",
       "    .dataframe tbody tr th {\n",
       "        vertical-align: top;\n",
       "    }\n",
       "\n",
       "    .dataframe thead th {\n",
       "        text-align: right;\n",
       "    }\n",
       "</style>\n",
       "<table border=\"1\" class=\"dataframe\">\n",
       "  <thead>\n",
       "    <tr style=\"text-align: right;\">\n",
       "      <th></th>\n",
       "      <th>Title</th>\n",
       "      <th>Directed by</th>\n",
       "      <th>Written by</th>\n",
       "      <th>Original air date</th>\n",
       "      <th>U.S. viewers (millions)</th>\n",
       "    </tr>\n",
       "    <tr>\n",
       "      <th>No. in season</th>\n",
       "      <th></th>\n",
       "      <th></th>\n",
       "      <th></th>\n",
       "      <th></th>\n",
       "      <th></th>\n",
       "    </tr>\n",
       "  </thead>\n",
       "  <tbody>\n",
       "    <tr>\n",
       "      <td>1</td>\n",
       "      <td>\"Pilot\"</td>\n",
       "      <td>Vince Gilligan</td>\n",
       "      <td>Vince Gilligan</td>\n",
       "      <td>January 20, 2008 (2008-01-20)</td>\n",
       "      <td>1.40</td>\n",
       "    </tr>\n",
       "    <tr>\n",
       "      <td>2</td>\n",
       "      <td>\"Cat's in the Bag...\"</td>\n",
       "      <td>Adam Bernstein</td>\n",
       "      <td>Vince Gilligan</td>\n",
       "      <td>January 27, 2008 (2008-01-27)</td>\n",
       "      <td>1.40</td>\n",
       "    </tr>\n",
       "    <tr>\n",
       "      <td>3</td>\n",
       "      <td>\"...And the Bag's in the River\"</td>\n",
       "      <td>Adam Bernstein</td>\n",
       "      <td>Vince Gilligan</td>\n",
       "      <td>February 10, 2008 (2008-02-10)</td>\n",
       "      <td>1.00</td>\n",
       "    </tr>\n",
       "    <tr>\n",
       "      <td>4</td>\n",
       "      <td>\"Cancer Man\"</td>\n",
       "      <td>Jim McKay</td>\n",
       "      <td>Vince Gilligan</td>\n",
       "      <td>February 17, 2008 (2008-02-17)</td>\n",
       "      <td>1.00</td>\n",
       "    </tr>\n",
       "    <tr>\n",
       "      <td>5</td>\n",
       "      <td>\"Gray Matter\"</td>\n",
       "      <td>Tricia Brock</td>\n",
       "      <td>Patty Lin</td>\n",
       "      <td>February 24, 2008 (2008-02-24)</td>\n",
       "      <td>0.90</td>\n",
       "    </tr>\n",
       "    <tr>\n",
       "      <td>...</td>\n",
       "      <td>...</td>\n",
       "      <td>...</td>\n",
       "      <td>...</td>\n",
       "      <td>...</td>\n",
       "      <td>...</td>\n",
       "    </tr>\n",
       "    <tr>\n",
       "      <td>12</td>\n",
       "      <td>\"Rabid Dog\"</td>\n",
       "      <td>Sam Catlin</td>\n",
       "      <td>Sam Catlin</td>\n",
       "      <td>September 1, 2013 (2013-09-01)</td>\n",
       "      <td>4.41</td>\n",
       "    </tr>\n",
       "    <tr>\n",
       "      <td>13</td>\n",
       "      <td>\"To'hajiilee\"</td>\n",
       "      <td>Michelle MacLaren</td>\n",
       "      <td>George Mastras</td>\n",
       "      <td>September 8, 2013 (2013-09-08)</td>\n",
       "      <td>5.11</td>\n",
       "    </tr>\n",
       "    <tr>\n",
       "      <td>14</td>\n",
       "      <td>\"Ozymandias\"</td>\n",
       "      <td>Rian Johnson</td>\n",
       "      <td>Moira Walley-Beckett</td>\n",
       "      <td>September 15, 2013 (2013-09-15)</td>\n",
       "      <td>6.37</td>\n",
       "    </tr>\n",
       "    <tr>\n",
       "      <td>15</td>\n",
       "      <td>\"Granite State\"</td>\n",
       "      <td>Peter Gould</td>\n",
       "      <td>Peter Gould</td>\n",
       "      <td>September 22, 2013 (2013-09-22)</td>\n",
       "      <td>6.58</td>\n",
       "    </tr>\n",
       "    <tr>\n",
       "      <td>16</td>\n",
       "      <td>\"Felina\"</td>\n",
       "      <td>Vince Gilligan</td>\n",
       "      <td>Vince Gilligan</td>\n",
       "      <td>September 29, 2013 (2013-09-29)</td>\n",
       "      <td>10.28</td>\n",
       "    </tr>\n",
       "  </tbody>\n",
       "</table>\n",
       "<p>62 rows × 5 columns</p>\n",
       "</div>"
      ],
      "text/plain": [
       "                                         Title        Directed by  \\\n",
       "No. in season                                                       \n",
       "1                                      \"Pilot\"     Vince Gilligan   \n",
       "2                        \"Cat's in the Bag...\"     Adam Bernstein   \n",
       "3              \"...And the Bag's in the River\"     Adam Bernstein   \n",
       "4                                 \"Cancer Man\"          Jim McKay   \n",
       "5                                \"Gray Matter\"       Tricia Brock   \n",
       "...                                        ...                ...   \n",
       "12                                 \"Rabid Dog\"         Sam Catlin   \n",
       "13                               \"To'hajiilee\"  Michelle MacLaren   \n",
       "14                                \"Ozymandias\"       Rian Johnson   \n",
       "15                             \"Granite State\"        Peter Gould   \n",
       "16                                    \"Felina\"     Vince Gilligan   \n",
       "\n",
       "                         Written by                Original air date  \\\n",
       "No. in season                                                          \n",
       "1                    Vince Gilligan    January 20, 2008 (2008-01-20)   \n",
       "2                    Vince Gilligan    January 27, 2008 (2008-01-27)   \n",
       "3                    Vince Gilligan   February 10, 2008 (2008-02-10)   \n",
       "4                    Vince Gilligan   February 17, 2008 (2008-02-17)   \n",
       "5                         Patty Lin   February 24, 2008 (2008-02-24)   \n",
       "...                             ...                              ...   \n",
       "12                       Sam Catlin   September 1, 2013 (2013-09-01)   \n",
       "13                   George Mastras   September 8, 2013 (2013-09-08)   \n",
       "14             Moira Walley-Beckett  September 15, 2013 (2013-09-15)   \n",
       "15                      Peter Gould  September 22, 2013 (2013-09-22)   \n",
       "16                   Vince Gilligan  September 29, 2013 (2013-09-29)   \n",
       "\n",
       "               U.S. viewers (millions)  \n",
       "No. in season                           \n",
       "1                                 1.40  \n",
       "2                                 1.40  \n",
       "3                                 1.00  \n",
       "4                                 1.00  \n",
       "5                                 0.90  \n",
       "...                                ...  \n",
       "12                                4.41  \n",
       "13                                5.11  \n",
       "14                                6.37  \n",
       "15                                6.58  \n",
       "16                               10.28  \n",
       "\n",
       "[62 rows x 5 columns]"
      ]
     },
     "execution_count": 18,
     "metadata": {},
     "output_type": "execute_result"
    }
   ],
   "source": [
    "from altair import Chart, X, Y, Color, Scale\n",
    "BreakingChart = BreakingData.set_index('No. in season')\n",
    "BreakingChart"
   ]
  },
  {
   "cell_type": "code",
   "execution_count": 19,
   "metadata": {},
   "outputs": [
    {
     "data": {
      "text/plain": [
       "RendererRegistry.enable('default')"
      ]
     },
     "execution_count": 19,
     "metadata": {},
     "output_type": "execute_result"
    }
   ],
   "source": [
    "import altair as alt\n",
    "alt.renderers.enable('default')"
   ]
  },
  {
   "cell_type": "code",
   "execution_count": 22,
   "metadata": {},
   "outputs": [],
   "source": [
    "import altair as alt\n",
    "BreakingChart2 = alt.Chart(BreakingData).mark_line().encode(\n",
    "    alt.X('Title'),\n",
    "    alt.Y('U.S. viewers (millions)'),\n",
    "    color='symbol:N'\n",
    ")"
   ]
  },
  {
   "cell_type": "code",
   "execution_count": 23,
   "metadata": {},
   "outputs": [
    {
     "data": {
      "application/vnd.vegalite.v3+json": {
       "$schema": "https://vega.github.io/schema/vega-lite/v3.4.0.json",
       "config": {
        "mark": {
         "tooltip": null
        },
        "view": {
         "height": 300,
         "width": 400
        }
       },
       "data": {
        "name": "data-3b1c7fd6b17d4ca032c9f4db34617079"
       },
       "datasets": {
        "data-3b1c7fd6b17d4ca032c9f4db34617079": [
         {
          "Directed by": "Vince Gilligan",
          "No. in season": "1",
          "Original air date": "January 20, 2008 (2008-01-20)",
          "Title": "\"Pilot\"",
          "U.S. viewers (millions)": 1.4,
          "Written by": "Vince Gilligan"
         },
         {
          "Directed by": "Adam Bernstein",
          "No. in season": "2",
          "Original air date": "January 27, 2008 (2008-01-27)",
          "Title": "\"Cat's in the Bag...\"",
          "U.S. viewers (millions)": 1.4,
          "Written by": "Vince Gilligan"
         },
         {
          "Directed by": "Adam Bernstein",
          "No. in season": "3",
          "Original air date": "February 10, 2008 (2008-02-10)",
          "Title": "\"...And the Bag's in the River\"",
          "U.S. viewers (millions)": 1,
          "Written by": "Vince Gilligan"
         },
         {
          "Directed by": "Jim McKay",
          "No. in season": "4",
          "Original air date": "February 17, 2008 (2008-02-17)",
          "Title": "\"Cancer Man\"",
          "U.S. viewers (millions)": 1,
          "Written by": "Vince Gilligan"
         },
         {
          "Directed by": "Tricia Brock",
          "No. in season": "5",
          "Original air date": "February 24, 2008 (2008-02-24)",
          "Title": "\"Gray Matter\"",
          "U.S. viewers (millions)": 0.9,
          "Written by": "Patty Lin"
         },
         {
          "Directed by": "Bronwen Hughes",
          "No. in season": "6",
          "Original air date": "March 2, 2008 (2008-03-02)",
          "Title": "\"Crazy Handful of Nothin'\"",
          "U.S. viewers (millions)": 1,
          "Written by": "George Mastras"
         },
         {
          "Directed by": "Tim Hunter",
          "No. in season": "7",
          "Original air date": "March 9, 2008 (2008-03-09)",
          "Title": "\"A No-Rough-Stuff-Type Deal\"",
          "U.S. viewers (millions)": 1.5,
          "Written by": "Peter Gould"
         },
         {
          "Directed by": "Bryan Cranston",
          "No. in season": "1",
          "Original air date": "March 8, 2009 (2009-03-08)",
          "Title": "\"Seven Thirty-Seven\"",
          "U.S. viewers (millions)": 1.6,
          "Written by": "J. Roberts"
         },
         {
          "Directed by": "Charles Haid",
          "No. in season": "2",
          "Original air date": "March 15, 2009 (2009-03-15)",
          "Title": "\"Grilled\"",
          "U.S. viewers (millions)": 1.6,
          "Written by": "George Mastras"
         },
         {
          "Directed by": "Terry McDonough",
          "No. in season": "3",
          "Original air date": "March 22, 2009 (2009-03-22)",
          "Title": "\"Bit by a Dead Bee\"",
          "U.S. viewers (millions)": 1.13,
          "Written by": "Peter Gould"
         },
         {
          "Directed by": "John Dahl",
          "No. in season": "4",
          "Original air date": "March 29, 2009 (2009-03-29)",
          "Title": "\"Down\"",
          "U.S. viewers (millions)": 1.29,
          "Written by": "Sam Catlin"
         },
         {
          "Directed by": "Johan Renck",
          "No. in season": "5",
          "Original air date": "April 5, 2009 (2009-04-05)",
          "Title": "\"Breakage\"",
          "U.S. viewers (millions)": 1.21,
          "Written by": "Moira Walley-Beckett"
         },
         {
          "Directed by": "Peter Medak",
          "No. in season": "6",
          "Original air date": "April 12, 2009 (2009-04-12)",
          "Title": "\"Peekaboo\"",
          "U.S. viewers (millions)": 1.41,
          "Written by": "J. Roberts & Vince Gilligan"
         },
         {
          "Directed by": "Felix Alcala",
          "No. in season": "7",
          "Original air date": "April 19, 2009 (2009-04-19)",
          "Title": "\"Negro y Azul\"",
          "U.S. viewers (millions)": null,
          "Written by": "John Shiban"
         },
         {
          "Directed by": "Terry McDonough",
          "No. in season": "8",
          "Original air date": "April 26, 2009 (2009-04-26)",
          "Title": "\"Better Call Saul\"",
          "U.S. viewers (millions)": 1.04,
          "Written by": "Peter Gould"
         },
         {
          "Directed by": "Michelle MacLaren",
          "No. in season": "9",
          "Original air date": "May 3, 2009 (2009-05-03)",
          "Title": "\"4 Days Out\"",
          "U.S. viewers (millions)": null,
          "Written by": "Sam Catlin"
         },
         {
          "Directed by": "Phil Abraham",
          "No. in season": "10",
          "Original air date": "May 10, 2009 (2009-05-10)",
          "Title": "\"Over\"",
          "U.S. viewers (millions)": null,
          "Written by": "Moira Walley-Beckett"
         },
         {
          "Directed by": "Adam Bernstein",
          "No. in season": "11",
          "Original air date": "May 17, 2009 (2009-05-17)",
          "Title": "\"Mandala\"",
          "U.S. viewers (millions)": null,
          "Written by": "George Mastras"
         },
         {
          "Directed by": "Colin Bucksey",
          "No. in season": "12",
          "Original air date": "May 24, 2009 (2009-05-24)",
          "Title": "\"Phoenix\"",
          "U.S. viewers (millions)": null,
          "Written by": "John Shiban"
         },
         {
          "Directed by": "Adam Bernstein",
          "No. in season": "13",
          "Original air date": "May 31, 2009 (2009-05-31)",
          "Title": "\"ABQ\"",
          "U.S. viewers (millions)": 1.5,
          "Written by": "Vince Gilligan"
         },
         {
          "Directed by": "Bryan Cranston",
          "No. in season": "1",
          "Original air date": "March 21, 2010 (2010-03-21)",
          "Title": "\"No Más\"",
          "U.S. viewers (millions)": 1.95,
          "Written by": "Vince Gilligan"
         },
         {
          "Directed by": "Adam Bernstein",
          "No. in season": "2",
          "Original air date": "March 28, 2010 (2010-03-28)",
          "Title": "\"Caballo sin Nombre\"",
          "U.S. viewers (millions)": 1.55,
          "Written by": "Peter Gould"
         },
         {
          "Directed by": "Michelle MacLaren",
          "No. in season": "3",
          "Original air date": "April 4, 2010 (2010-04-04)",
          "Title": "\"I.F.T.\"",
          "U.S. viewers (millions)": 1.33,
          "Written by": "George Mastras"
         },
         {
          "Directed by": "Scott Winant",
          "No. in season": "4",
          "Original air date": "April 11, 2010 (2010-04-11)",
          "Title": "\"Green Light\"",
          "U.S. viewers (millions)": 1.46,
          "Written by": "Sam Catlin"
         },
         {
          "Directed by": "Johan Renck",
          "No. in season": "5",
          "Original air date": "April 18, 2010 (2010-04-18)",
          "Title": "\"Más\"",
          "U.S. viewers (millions)": 1.61,
          "Written by": "Moira Walley-Beckett"
         },
         {
          "Directed by": "John Shiban",
          "No. in season": "6",
          "Original air date": "April 25, 2010 (2010-04-25)",
          "Title": "\"Sunset\"",
          "U.S. viewers (millions)": 1.64,
          "Written by": "John Shiban"
         },
         {
          "Directed by": "Michelle MacLaren",
          "No. in season": "7",
          "Original air date": "May 2, 2010 (2010-05-02)",
          "Title": "\"One Minute\"",
          "U.S. viewers (millions)": 1.52,
          "Written by": "Thomas Schnauz"
         },
         {
          "Directed by": "Colin Bucksey",
          "No. in season": "8",
          "Original air date": "May 9, 2010 (2010-05-09)",
          "Title": "\"I See You\"",
          "U.S. viewers (millions)": 1.78,
          "Written by": "Gennifer Hutchison"
         },
         {
          "Directed by": "Michael Slovis",
          "No. in season": "9",
          "Original air date": "May 16, 2010 (2010-05-16)",
          "Title": "\"Kafkaesque\"",
          "U.S. viewers (millions)": 1.61,
          "Written by": "Peter Gould & George Mastras"
         },
         {
          "Directed by": "Rian Johnson",
          "No. in season": "10",
          "Original air date": "May 23, 2010 (2010-05-23)",
          "Title": "\"Fly\"",
          "U.S. viewers (millions)": 1.2,
          "Written by": "Sam Catlin & Moira Walley-Beckett"
         },
         {
          "Directed by": "Michelle MacLaren",
          "No. in season": "11",
          "Original air date": "May 30, 2010 (2010-05-30)",
          "Title": "\"Abiquiu\"",
          "U.S. viewers (millions)": 1.32,
          "Written by": "John Shiban & Thomas Schnauz"
         },
         {
          "Directed by": "Adam Bernstein",
          "No. in season": "12",
          "Original air date": "June 6, 2010 (2010-06-06)",
          "Title": "\"Half Measures\"",
          "U.S. viewers (millions)": 1.19,
          "Written by": "Sam Catlin & Peter Gould"
         },
         {
          "Directed by": "Vince Gilligan",
          "No. in season": "13",
          "Original air date": "June 13, 2010 (2010-06-13)",
          "Title": "\"Full Measure\"",
          "U.S. viewers (millions)": 1.56,
          "Written by": "Vince Gilligan"
         },
         {
          "Directed by": "Adam Bernstein",
          "No. in season": "1",
          "Original air date": "July 17, 2011 (2011-07-17)",
          "Title": "\"Box Cutter\"",
          "U.S. viewers (millions)": 2.58,
          "Written by": "Vince Gilligan"
         },
         {
          "Directed by": "Michelle MacLaren",
          "No. in season": "2",
          "Original air date": "July 24, 2011 (2011-07-24)",
          "Title": "\"Thirty-Eight Snub\"",
          "U.S. viewers (millions)": 1.97,
          "Written by": "George Mastras"
         },
         {
          "Directed by": "David Slade",
          "No. in season": "3",
          "Original air date": "July 31, 2011 (2011-07-31)",
          "Title": "\"Open House\"",
          "U.S. viewers (millions)": 1.71,
          "Written by": "Sam Catlin"
         },
         {
          "Directed by": "Colin Bucksey",
          "No. in season": "4",
          "Original air date": "August 7, 2011 (2011-08-07)",
          "Title": "\"Bullet Points\"",
          "U.S. viewers (millions)": 1.83,
          "Written by": "Moira Walley-Beckett"
         },
         {
          "Directed by": "Michelle MacLaren",
          "No. in season": "5",
          "Original air date": "August 14, 2011 (2011-08-14)",
          "Title": "\"Shotgun\"",
          "U.S. viewers (millions)": 1.75,
          "Written by": "Thomas Schnauz"
         },
         {
          "Directed by": "Michael Slovis",
          "No. in season": "6",
          "Original air date": "August 21, 2011 (2011-08-21)",
          "Title": "\"Cornered\"",
          "U.S. viewers (millions)": 1.67,
          "Written by": "Gennifer Hutchison"
         },
         {
          "Directed by": "Peter Gould",
          "No. in season": "7",
          "Original air date": "August 28, 2011 (2011-08-28)",
          "Title": "\"Problem Dog\"",
          "U.S. viewers (millions)": 1.91,
          "Written by": "Peter Gould"
         },
         {
          "Directed by": "Johan Renck",
          "No. in season": "8",
          "Original air date": "September 4, 2011 (2011-09-04)",
          "Title": "\"Hermanos\"",
          "U.S. viewers (millions)": 1.98,
          "Written by": "Sam Catlin & George Mastras"
         },
         {
          "Directed by": "Terry McDonough",
          "No. in season": "9",
          "Original air date": "September 11, 2011 (2011-09-11)",
          "Title": "\"Bug\"",
          "U.S. viewers (millions)": 1.89,
          "Written by": "Moira Walley-Beckett & Thomas Schnauz"
         },
         {
          "Directed by": "Michelle MacLaren",
          "No. in season": "10",
          "Original air date": "September 18, 2011 (2011-09-18)",
          "Title": "\"Salud\"",
          "U.S. viewers (millions)": 1.8,
          "Written by": "Peter Gould & Gennifer Hutchison"
         },
         {
          "Directed by": "Scott Winant",
          "No. in season": "11",
          "Original air date": "September 25, 2011 (2011-09-25)",
          "Title": "\"Crawl Space\"",
          "U.S. viewers (millions)": 1.55,
          "Written by": "George Mastras & Sam Catlin"
         },
         {
          "Directed by": "Vince Gilligan",
          "No. in season": "12",
          "Original air date": "October 2, 2011 (2011-10-02)",
          "Title": "\"End Times\"",
          "U.S. viewers (millions)": 1.73,
          "Written by": "Thomas Schnauz & Moira Walley-Beckett"
         },
         {
          "Directed by": "Vince Gilligan",
          "No. in season": "13",
          "Original air date": "October 9, 2011 (2011-10-09)",
          "Title": "\"Face Off\"",
          "U.S. viewers (millions)": 1.9,
          "Written by": "Vince Gilligan"
         },
         {
          "Directed by": "Michael Slovis",
          "No. in season": "1",
          "Original air date": "July 15, 2012 (2012-07-15)",
          "Title": "\"Live Free or Die\"",
          "U.S. viewers (millions)": 2.93,
          "Written by": "Vince Gilligan"
         },
         {
          "Directed by": "Michelle MacLaren",
          "No. in season": "2",
          "Original air date": "July 22, 2012 (2012-07-22)",
          "Title": "\"Madrigal\"",
          "U.S. viewers (millions)": 2.29,
          "Written by": "Vince Gilligan"
         },
         {
          "Directed by": "Adam Bernstein",
          "No. in season": "3",
          "Original air date": "July 29, 2012 (2012-07-29)",
          "Title": "\"Hazard Pay\"",
          "U.S. viewers (millions)": 2.2,
          "Written by": "Peter Gould"
         },
         {
          "Directed by": "Rian Johnson",
          "No. in season": "4",
          "Original air date": "August 5, 2012 (2012-08-05)",
          "Title": "\"Fifty-One\"",
          "U.S. viewers (millions)": 2.29,
          "Written by": "Sam Catlin"
         },
         {
          "Directed by": "George Mastras",
          "No. in season": "5",
          "Original air date": "August 12, 2012 (2012-08-12)",
          "Title": "\"Dead Freight\"",
          "U.S. viewers (millions)": 2.48,
          "Written by": "George Mastras"
         },
         {
          "Directed by": "Colin Bucksey",
          "No. in season": "6",
          "Original air date": "August 19, 2012 (2012-08-19)",
          "Title": "\"Buyout\"",
          "U.S. viewers (millions)": 2.81,
          "Written by": "Gennifer Hutchison"
         },
         {
          "Directed by": "Thomas Schnauz",
          "No. in season": "7",
          "Original air date": "August 26, 2012 (2012-08-26)",
          "Title": "\"Say My Name\"",
          "U.S. viewers (millions)": 2.98,
          "Written by": "Thomas Schnauz"
         },
         {
          "Directed by": "Michelle MacLaren",
          "No. in season": "8",
          "Original air date": "September 2, 2012 (2012-09-02)",
          "Title": "\"Gliding Over All\"",
          "U.S. viewers (millions)": 2.78,
          "Written by": "Moira Walley-Beckett"
         },
         {
          "Directed by": "Bryan Cranston",
          "No. in season": "9",
          "Original air date": "August 11, 2013 (2013-08-11)",
          "Title": "\"Blood Money\"",
          "U.S. viewers (millions)": 5.92,
          "Written by": "Peter Gould"
         },
         {
          "Directed by": "Michelle MacLaren",
          "No. in season": "10",
          "Original air date": "August 18, 2013 (2013-08-18)",
          "Title": "\"Buried\"",
          "U.S. viewers (millions)": 4.77,
          "Written by": "Thomas Schnauz"
         },
         {
          "Directed by": "Michael Slovis",
          "No. in season": "11",
          "Original air date": "August 25, 2013 (2013-08-25)",
          "Title": "\"Confessions\"",
          "U.S. viewers (millions)": 4.85,
          "Written by": "Gennifer Hutchison"
         },
         {
          "Directed by": "Sam Catlin",
          "No. in season": "12",
          "Original air date": "September 1, 2013 (2013-09-01)",
          "Title": "\"Rabid Dog\"",
          "U.S. viewers (millions)": 4.41,
          "Written by": "Sam Catlin"
         },
         {
          "Directed by": "Michelle MacLaren",
          "No. in season": "13",
          "Original air date": "September 8, 2013 (2013-09-08)",
          "Title": "\"To'hajiilee\"",
          "U.S. viewers (millions)": 5.11,
          "Written by": "George Mastras"
         },
         {
          "Directed by": "Rian Johnson",
          "No. in season": "14",
          "Original air date": "September 15, 2013 (2013-09-15)",
          "Title": "\"Ozymandias\"",
          "U.S. viewers (millions)": 6.37,
          "Written by": "Moira Walley-Beckett"
         },
         {
          "Directed by": "Peter Gould",
          "No. in season": "15",
          "Original air date": "September 22, 2013 (2013-09-22)",
          "Title": "\"Granite State\"",
          "U.S. viewers (millions)": 6.58,
          "Written by": "Peter Gould"
         },
         {
          "Directed by": "Vince Gilligan",
          "No. in season": "16",
          "Original air date": "September 29, 2013 (2013-09-29)",
          "Title": "\"Felina\"",
          "U.S. viewers (millions)": 10.28,
          "Written by": "Vince Gilligan"
         }
        ]
       },
       "encoding": {
        "color": {
         "field": "symbol",
         "type": "nominal"
        },
        "x": {
         "field": "Title",
         "type": "nominal"
        },
        "y": {
         "field": "U.S. viewers (millions)",
         "type": "quantitative"
        }
       },
       "mark": "line"
      },
      "image/png": "[encoded data removed]",
      "text/plain": [
       "<VegaLite 3 object>\n",
       "\n",
       "If you see this message, it means the renderer has not been properly enabled\n",
       "for the frontend that you are using. For more information, see\n",
       "https://altair-viz.github.io/user_guide/troubleshooting.html\n"
      ]
     },
     "execution_count": 23,
     "metadata": {},
     "output_type": "execute_result"
    }
   ],
   "source": [
    "BreakingChart2"
   ]
  },
  {
   "cell_type": "code",
   "execution_count": null,
   "metadata": {},
   "outputs": [],
   "source": []
  },
  {
   "cell_type": "code",
   "execution_count": null,
   "metadata": {},
   "outputs": [],
   "source": []
  },
  {
   "cell_type": "code",
   "execution_count": null,
   "metadata": {},
   "outputs": [],
   "source": []
  }
 ],
 "metadata": {
  "kernelspec": {
   "display_name": "Python 3",
   "language": "python",
   "name": "python3"
  },
  "language_info": {
   "codemirror_mode": {
    "name": "ipython",
    "version": 3
   },
   "file_extension": ".py",
   "mimetype": "text/x-python",
   "name": "python",
   "nbconvert_exporter": "python",
   "pygments_lexer": "ipython3",
   "version": "3.7.4"
  }
 },
 "nbformat": 4,
 "nbformat_minor": 4
}
